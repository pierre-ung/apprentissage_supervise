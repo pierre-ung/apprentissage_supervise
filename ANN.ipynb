{
 "cells": [
  {
   "cell_type": "markdown",
   "metadata": {},
   "source": [
    "# TP2 - Méthode des A-NN"
   ]
  },
  {
   "cell_type": "markdown",
   "metadata": {},
   "source": [
    "## Introduction\n",
    "Dans le cadre des TP d'apprentissage supervisé, nous avons experimenté des méthodes de classification en utilisant des A-NN (Réseaux de neurones artificiels). Ces expériementations nous ont permis de trouver différents avantages et désavantages aux méthodes d'A-NN."
   ]
  },
  {
   "cell_type": "code",
   "execution_count": 54,
   "metadata": {},
   "outputs": [],
   "source": [
    "from sklearn.datasets import fetch_openml\n",
    "from sklearn import datasets\n",
    "import matplotlib.pyplot as plt\n",
    "from sklearn.model_selection import train_test_split\n",
    "from sklearn.neural_network import MLPClassifier\n",
    "from sklearn.datasets import make_classification\n",
    "from sklearn.metrics import precision_score\n",
    "from sklearn.metrics import recall_score\n",
    "from sklearn.metrics import zero_one_loss\n",
    "import matplotlib.pyplot as plt\n",
    "import numpy as np\n",
    "import random\n",
    "import time\n",
    "import statistics"
   ]
  },
  {
   "cell_type": "markdown",
   "metadata": {},
   "source": [
    "## Travail à effectuer\n",
    "Dans ce TP, nous expérimentons la création de réseaux de neurones artificiels (A-NN) avec divers paramètres. Afin de réduire les temps d'apprentissage, nous entrainons nos réseaux avec 10 000 images, et les testons sur 5000."
   ]
  },
  {
   "cell_type": "code",
   "execution_count": 2,
   "metadata": {},
   "outputs": [],
   "source": [
    "# Chargement du dataset MNIST\n",
    "X, Y = fetch_openml('mnist_784', return_X_y = True, as_frame = False) \n",
    "\n",
    "# 10000 Données pour l'entrainement\n",
    "training_data = X[:10000]\n",
    "training_target = Y[:10000]\n",
    "\n",
    "# 5000 autres données sont utilisées pour les tests\n",
    "test_data = X[10000:15000]\n",
    "test_target = Y[10000:15000]\n"
   ]
  },
  {
   "cell_type": "code",
   "execution_count": 3,
   "metadata": {},
   "outputs": [
    {
     "name": "stdout",
     "output_type": "stream",
     "text": [
      "Classe de l'image: 9\n"
     ]
    },
    {
     "data": {
      "image/png": "[encoded data removed]",
      "text/plain": [
       "<Figure size 432x288 with 1 Axes>"
      ]
     },
     "metadata": {
      "needs_background": "light"
     },
     "output_type": "display_data"
    }
   ],
   "source": [
    "# Test de l'affichage et de la classe de l'image n°4\n",
    "plt.imshow(X[4].reshape(28, 28), cmap=plt.cm.gray_r,interpolation=\"nearest\")\n",
    "print(f\"Classe de l'image: {Y[4]}\")\n",
    "plt.show() "
   ]
  },
  {
   "cell_type": "code",
   "execution_count": 4,
   "metadata": {},
   "outputs": [],
   "source": [
    "# Modèles de classification\n",
    "\n",
    "# Modèle avec hidden_layer_sizes = (50), soit 1 couche cachée de 50 Neurones\n",
    "Classifier_50 = MLPClassifier(hidden_layer_sizes =  (50), verbose=False).fit(training_data, training_target)"
   ]
  },
  {
   "cell_type": "code",
   "execution_count": 5,
   "metadata": {},
   "outputs": [
    {
     "name": "stdout",
     "output_type": "stream",
     "text": [
      "Expected class: 9\n",
      "Predicted class of image n°4: 9\n",
      "Success\n"
     ]
    }
   ],
   "source": [
    "# Prédiction de l'image n°4 du test set avec le modèle entrainé\n",
    "expected4 = test_target[4]\n",
    "predicted4 = Classifier_50.predict(test_data)[4]\n",
    "print(f\"Expected class: {expected4}\")\n",
    "print(f\"Predicted class of image n°4: {predicted4}\")\n",
    "if expected4 == predicted4:\n",
    "    print(\"Success\")\n",
    "else:\n",
    "    print(\"Failure\")"
   ]
  },
  {
   "cell_type": "code",
   "execution_count": 6,
   "metadata": {},
   "outputs": [
    {
     "name": "stdout",
     "output_type": "stream",
     "text": [
      "Précision du modèle par label [0-9]: [0.97457627 0.95478261 0.89542484 0.87169811 0.90851064 0.92147806\n",
      " 0.93868922 0.94038462 0.78782288 0.85931559]\n"
     ]
    }
   ],
   "source": [
    "# Précision du model sur le test set\n",
    "accuracy = precision_score(test_target, Classifier_50.predict(test_data), average=None)\n",
    "\n",
    "print(f\"Précision du modèle par label [0-9]: {accuracy}\")"
   ]
  },
  {
   "cell_type": "markdown",
   "metadata": {},
   "source": [
    "On peut voir que le modèle avec une seule couche cachée présente une bonne accuracy. En effet, elle atteint 97% sur le chiffre 0, et ne tombe qu'à 78% pour le chiffre 8. Les autres sont entre 85% et 95%"
   ]
  },
  {
   "cell_type": "code",
   "execution_count": 12,
   "metadata": {
    "scrolled": false
   },
   "outputs": [
    {
     "name": "stdout",
     "output_type": "stream",
     "text": [
      "hidden_layer_size = 10\n",
      "Accuracy = 0.911\n",
      "hidden_layer_size = 20\n",
      "Accuracy = 0.907\n",
      "hidden_layer_size = 30\n",
      "Accuracy = 0.9206\n",
      "hidden_layer_size = 40\n",
      "Accuracy = 0.6816\n",
      "hidden_layer_size = 50\n",
      "Accuracy = 0.1126\n",
      "hidden_layer_size = 60\n",
      "Accuracy = 0.1126\n",
      "hidden_layer_size = 70\n",
      "Accuracy = 0.1126\n",
      "hidden_layer_size = 80\n",
      "Accuracy = 0.1126\n",
      "hidden_layer_size = 90\n",
      "Accuracy = 0.1126\n",
      "hidden_layer_size = 100\n",
      "Accuracy = 0.1126\n",
      "Max accuracy: 0.9206 for 30 hidden layers\n"
     ]
    }
   ],
   "source": [
    "# Variation de 10 à 100 couches cachées de 25 neurones chacune\n",
    "\n",
    "#max (n_hidden_layer, accuracy) tuple\n",
    "max_accuracy = (0,0)\n",
    "\n",
    "# Nombre de neurones par couche\n",
    "neuron_number = 25\n",
    "for i in range(10, 101, 10):\n",
    "    \n",
    "    hidden_layer_s = []\n",
    "    for _ in range (0, i):\n",
    "        hidden_layer_s.append(neuron_number)\n",
    "    \n",
    "    print(f\"hidden_layer_size = {len(hidden_layer_s)}\", flush=True)\n",
    "    Classifier_n = MLPClassifier(hidden_layer_sizes =  hidden_layer_s).fit(training_data, training_target)\n",
    "    accuracy = precision_score(test_target, Classifier_n.predict(test_data), average=\"micro\")\n",
    "    print(f\"Accuracy = {accuracy}\")\n",
    "    if(accuracy > max_accuracy[0]):\n",
    "        max_accuracy = (accuracy, i)\n",
    "print(f\"Max accuracy: {max_accuracy[0]} for {max_accuracy[1]} hidden layers\")"
   ]
  },
  {
   "cell_type": "markdown",
   "metadata": {},
   "source": [
    "Nous pouvons remarquer qu'avec plus de 30 couches cachées de 25 neurones, le model commence à sur-apprendre. Cela veut dire que le model ne reconnait pas les images, mais apprend le training set par coeur. Cela rend donc le modèle inutilisable."
   ]
  },
  {
   "cell_type": "code",
   "execution_count": 13,
   "metadata": {},
   "outputs": [
    {
     "name": "stdout",
     "output_type": "stream",
     "text": [
      "Nombre de neurones par couche: 123\n",
      "\n",
      "Modèle n° 1\n",
      "hidden_layer_size = 1\n",
      "-------- Temps d'apprentissage: 4.8645241260528564s --------\n",
      "\n",
      "\n",
      "Modèle n° 2\n",
      "hidden_layer_size = 3\n",
      "-------- Temps d'apprentissage: 7.03551173210144s --------\n",
      "\n",
      "\n",
      "Modèle n° 3\n",
      "hidden_layer_size = 5\n",
      "-------- Temps d'apprentissage: 10.689053058624268s --------\n",
      "\n",
      "\n",
      "Modèle n° 4\n",
      "hidden_layer_size = 7\n",
      "-------- Temps d'apprentissage: 17.589107751846313s --------\n",
      "\n",
      "\n",
      "Modèle n° 5\n",
      "hidden_layer_size = 9\n",
      "-------- Temps d'apprentissage: 19.80100440979004s --------\n",
      "\n",
      "\n"
     ]
    }
   ],
   "source": [
    "# 5 modèles de classification, avec [1 ; 10] couches cachées\n",
    "# chacune avec [10 ; 300] neurones (choisis aléatoirement) \n",
    "\n",
    "# Nombre de neurones par couche\n",
    "neuron_number = random.randint(10,300)\n",
    "print(f\"Nombre de neurones par couche: {neuron_number}\\n\")\n",
    "\n",
    "\n",
    "# Génération de 5 modèles\n",
    "Classifier_models = []\n",
    "for i in range(0,10, 2):\n",
    "    print(f\"Modèle n° {round(i/2 + 1)}\", flush=True)\n",
    "    hidden_layer_s = []\n",
    "    for j in range (0, i+1):\n",
    "        hidden_layer_s.append(neuron_number)\n",
    "    print(f\"hidden_layer_size = {len(hidden_layer_s)}\", flush=True)\n",
    "    \n",
    "    ##### Temps d'apprentissage ####\n",
    "    start_time = time.time()\n",
    "    Classifier_n = MLPClassifier(hidden_layer_sizes =  hidden_layer_s).fit(training_data, training_target)\n",
    "    print(f\"-------- Temps d'apprentissage: {time.time() - start_time}s --------\")\n",
    "\n",
    "    \n",
    "    accuracy = precision_score(test_target, Classifier_n.predict(test_data), average=\"micro\")\n",
    "    Classifier_models.append(Classifier_n)\n",
    "    print(\"\\n\")"
   ]
  },
  {
   "cell_type": "code",
   "execution_count": 14,
   "metadata": {},
   "outputs": [
    {
     "name": "stdout",
     "output_type": "stream",
     "text": [
      "--- Modèle n° 1 ---\n",
      "Accuracy par label [0-9]: [0.97058824 0.96296296 0.85826772 0.87951807 0.90756303 0.88085106\n",
      " 0.902      0.94011976 0.88470067 0.83725136]\n",
      "Accuracy moyenne: 0.9023822858027751\n",
      "----------------\n",
      "\n",
      "--- Modèle n° 2 ---\n",
      "Accuracy par label [0-9]: [0.94887526 0.93686007 0.88008565 0.86626747 0.88085938 0.87810384\n",
      " 0.93081761 0.91254753 0.84317719 0.86614173]\n",
      "Accuracy moyenne: 0.8943735714802513\n",
      "----------------\n",
      "\n",
      "--- Modèle n° 3 ---\n",
      "Accuracy par label [0-9]: [0.95731707 0.97513321 0.85480573 0.88439306 0.92040816 0.91028446\n",
      " 0.94327731 0.94129159 0.873706   0.90384615]\n",
      "Accuracy moyenne: 0.9164462758844774\n",
      "----------------\n",
      "\n",
      "--- Modèle n° 4 ---\n",
      "Accuracy par label [0-9]: [0.98962656 0.92821369 0.90631365 0.89648799 0.92215569 0.96171171\n",
      " 0.97441365 0.9740519  0.92608696 0.9296875 ]\n",
      "Accuracy moyenne: 0.9408749275452046\n",
      "----------------\n",
      "\n",
      "--- Modèle n° 5 ---\n",
      "Accuracy par label [0-9]: [0.96806387 0.97354497 0.95364238 0.9        0.95491803 0.87374749\n",
      " 0.96443515 0.96168582 0.89937107 0.95670103]\n",
      "Accuracy moyenne: 0.9406109827991818\n",
      "----------------\n",
      "\n"
     ]
    }
   ],
   "source": [
    "# Accuracy des 5 modèles\n",
    "i = 1\n",
    "for Classifier in Classifier_models:\n",
    "    print(f\"--- Modèle n° {i} ---\")\n",
    "    accuracy = precision_score(test_target, Classifier.predict(test_data), average=None)\n",
    "    print(f\"Accuracy par label [0-9]: {accuracy}\")\n",
    "    print(f\"Accuracy moyenne: {statistics.mean(accuracy)}\")\n",
    "    print(\"----------------\\n\")\n",
    "    i += 1"
   ]
  },
  {
   "cell_type": "markdown",
   "metadata": {},
   "source": [
    "On remarque que le modèle ayant la meilleure accuracy est le modèle est le Modèle 3, avec 5 couches cachées. Cependant, si l'on fait un rapport temps d'apprentissage / performance, le meilleur modèle est le Modèle 1, avec une seule couche cachée (~ 3x moins de temps d'apprentissage que le modèle 3, pour environ 1.06x moins d'accuracy)."
   ]
  },
  {
   "cell_type": "markdown",
   "metadata": {},
   "source": [
    "Nous allons maintenant expérimenter plusieurs algorithmes d'optimisation (L-BFSG, SGD, ADAM), avec plusieurs fonctions d'activation (relu et tanh) et paramètres alpha. Cela nous permettra de trouver de bons paramètres pour notre cas de classification de chiffres manuscrits."
   ]
  },
  {
   "cell_type": "code",
   "execution_count": 18,
   "metadata": {},
   "outputs": [
    {
     "name": "stdout",
     "output_type": "stream",
     "text": [
      "Nombre de neurones par layer: 15\n",
      "\n"
     ]
    }
   ],
   "source": [
    "# Comparaison des différents algorithmes d'optimisation\n",
    "\n",
    "# Création des paramètres des modèles\n",
    "\n",
    "# Séléction du nombre de neurones par couche\n",
    "neuron_number = random.randint(10,300)\n",
    "print(f\"Nombre de neurones par layer: {neuron_number}\\n\")\n",
    "\n",
    "# Remplissage des layers\n",
    "layer_number = 10\n",
    "hidden_layer_s = []\n",
    "for i in range (0, layer_number+1):\n",
    "    hidden_layer_s.append(neuron_number)\n"
   ]
  },
  {
   "cell_type": "code",
   "execution_count": 22,
   "metadata": {},
   "outputs": [],
   "source": [
    "activations = [\"tanh\", \"relu\"]\n",
    "alphas = [0.0001, 0.001, 0.01, 0.1]"
   ]
  },
  {
   "cell_type": "markdown",
   "metadata": {},
   "source": [
    "#### Impossible d'utiliser les fonctions d'activation \"identity\" et \"logistic\"."
   ]
  },
  {
   "cell_type": "markdown",
   "metadata": {},
   "source": [
    "Entrainement de plusieurs classifiers en utilisant l'optimisation L-BFSG:"
   ]
  },
  {
   "cell_type": "code",
   "execution_count": null,
   "metadata": {},
   "outputs": [],
   "source": [
    "times_BFSG = []\n",
    "classifiers_BFSG = []\n",
    "accuracy_BFSG = []\n",
    "print(\"L-BFSG Classifier\")\n",
    "for activation in activations:\n",
    "    times = []\n",
    "    classifiers = []\n",
    "    for alpha in alphas:\n",
    "        start_time = time.time()\n",
    "        Classifier_BFSG = MLPClassifier(activation=activation, alpha=alpha, hidden_layer_sizes =  hidden_layer_s, solver = \"lbfgs\", verbose=False).fit(training_data, training_target)\n",
    "        times.append(time.time()-start_time)\n",
    "        classifiers.append(Classifier_BFSG)\n",
    "    times_BFSG.append(times)\n",
    "    classifiers_BFSG.append(classifiers)"
   ]
  },
  {
   "cell_type": "markdown",
   "metadata": {},
   "source": [
    "#### Le modèle ne converge pas avec l'optimisation BFGS. On l'ignore pour la suite du TP. "
   ]
  },
  {
   "cell_type": "markdown",
   "metadata": {},
   "source": [
    "Entrainement de plusieurs classifiers en utilisant l'optimisation SGD:"
   ]
  },
  {
   "cell_type": "code",
   "execution_count": 23,
   "metadata": {},
   "outputs": [
    {
     "name": "stdout",
     "output_type": "stream",
     "text": [
      "SGD Classifier\n",
      "tanh OK\n",
      "\n"
     ]
    },
    {
     "name": "stderr",
     "output_type": "stream",
     "text": [
      "/home/pierre/anaconda3/lib/python3.8/site-packages/sklearn/neural_network/_multilayer_perceptron.py:582: ConvergenceWarning: Stochastic Optimizer: Maximum iterations (200) reached and the optimization hasn't converged yet.\n",
      "  warnings.warn(\n"
     ]
    },
    {
     "name": "stdout",
     "output_type": "stream",
     "text": [
      "relu OK\n",
      "\n"
     ]
    }
   ],
   "source": [
    "times_SGD = []\n",
    "classifiers_SGD = []\n",
    "print(\"SGD Classifier\")\n",
    "for activation in activations:\n",
    "    times = []\n",
    "    classifiers = []\n",
    "    for alpha in alphas:\n",
    "        start_time = time.time()\n",
    "        Classifier_SGD = MLPClassifier(activation=activation, alpha=alpha, hidden_layer_sizes =  hidden_layer_s, solver = \"sgd\", verbose=False).fit(training_data, training_target)\n",
    "        times.append(time.time()-start_time)\n",
    "        classifiers.append(Classifier_SGD)\n",
    "    times_SGD.append(times)\n",
    "    classifiers_SGD.append(classifiers)\n",
    "    print(f\"{activation} OK\\n\")"
   ]
  },
  {
   "cell_type": "markdown",
   "metadata": {},
   "source": [
    "Entrainement de plusieurs classifiers en utilisant l'optimisation ADAM:"
   ]
  },
  {
   "cell_type": "code",
   "execution_count": 24,
   "metadata": {},
   "outputs": [
    {
     "name": "stdout",
     "output_type": "stream",
     "text": [
      "ADAM Classifier\n",
      "tanh OK\n",
      "\n",
      "relu OK\n",
      "\n"
     ]
    }
   ],
   "source": [
    "times_ADAM = []\n",
    "classifiers_ADAM = []\n",
    "print(\"ADAM Classifier\")\n",
    "for activation in activations:\n",
    "    times = []\n",
    "    classifiers = []\n",
    "    for alpha in alphas:\n",
    "        start_time = time.time()\n",
    "        Classifier_ADAM = MLPClassifier(activation=activation, alpha=alpha, hidden_layer_sizes =  hidden_layer_s, solver = \"adam\", verbose=False).fit(training_data, training_target)\n",
    "        times.append(time.time()-start_time)\n",
    "        classifiers.append(Classifier_ADAM)\n",
    "    times_ADAM.append(times)\n",
    "    classifiers_ADAM.append(classifiers)\n",
    "    print(f\"{activation} OK\\n\")"
   ]
  },
  {
   "cell_type": "markdown",
   "metadata": {},
   "source": [
    "On calcul maintenant l'accuracy, le recall et l'erreur de chaque classifiers. Dans notre cas d'utilisation, le recall et l'accuracy devraient être les mêmes."
   ]
  },
  {
   "cell_type": "code",
   "execution_count": 61,
   "metadata": {},
   "outputs": [],
   "source": [
    "# Accuracy / Recall pour SGD et ADAM (multiples paramètres)\n",
    "accuracy_SGD = []\n",
    "recall_SGD = []\n",
    "error_SGD = []\n",
    "\n",
    "for classifiers in classifiers_SGD:\n",
    "    accuracy = []\n",
    "    recall = []\n",
    "    error = []\n",
    "    for classifier in classifiers:\n",
    "        pred = classifier.predict(test_data)\n",
    "        accuracy.append(classifier.score(test_data, test_target))\n",
    "        recall.append(recall_score(test_target, pred, average='macro'))\n",
    "        error.append(zero_one_loss(test_target, pred))\n",
    "    accuracy_SGD.append(accuracy)\n",
    "    recall_SGD.append(recall)\n",
    "    error_SGD.append(error)\n",
    "    \n",
    "accuracy_ADAM = []\n",
    "recall_ADAM = []\n",
    "error_ADAM = []\n",
    "\n",
    "for classifiers in classifiers_ADAM:\n",
    "    accuracy = []\n",
    "    recall = []\n",
    "    error = []\n",
    "    for classifier in classifiers:\n",
    "        pred = classifier.predict(test_data)\n",
    "        accuracy.append(classifier.score(test_data, test_target))\n",
    "        recall.append(recall_score(test_target, pred, average='macro'))\n",
    "        error.append(zero_one_loss(test_target, pred))\n",
    "    accuracy_ADAM.append(accuracy)\n",
    "    recall_ADAM.append(recall)\n",
    "    error_ADAM.append(error)"
   ]
  },
  {
   "cell_type": "markdown",
   "metadata": {},
   "source": [
    " On regarde et compare les caractéristiques de nos réseaux entrainés "
   ]
  },
  {
   "cell_type": "code",
   "execution_count": 68,
   "metadata": {},
   "outputs": [
    {
     "data": {
      "image/png": "[encoded data removed]",
      "text/plain": [
       "<Figure size 432x288 with 1 Axes>"
      ]
     },
     "metadata": {
      "needs_background": "light"
     },
     "output_type": "display_data"
    },
    {
     "data": {
      "image/png": "[encoded data removed]",
      "text/plain": [
       "<Figure size 432x288 with 1 Axes>"
      ]
     },
     "metadata": {
      "needs_background": "light"
     },
     "output_type": "display_data"
    },
    {
     "data": {
      "image/png": "[encoded data removed]",
      "text/plain": [
       "<Figure size 432x288 with 1 Axes>"
      ]
     },
     "metadata": {
      "needs_background": "light"
     },
     "output_type": "display_data"
    },
    {
     "data": {
      "image/png": "[encoded data removed]",
      "text/plain": [
       "<Figure size 432x288 with 1 Axes>"
      ]
     },
     "metadata": {
      "needs_background": "light"
     },
     "output_type": "display_data"
    }
   ],
   "source": [
    "# Plots SGD \n",
    "## Plots SGD Temps / Alpha\n",
    "plt.figure()\n",
    "plt.plot(alphas, times_SGD[0], label=\"tahn SGD\")\n",
    "plt.plot(alphas, times_SGD[1], label=\"relu SGD\")\n",
    "plt.plot(alphas, times_ADAM[0], label=\"tahn ADAM\")\n",
    "plt.plot(alphas, times_ADAM[1], label=\"relu ADAM\")\n",
    "plt.xlabel(\"alpha\")\n",
    "plt.ylabel(\"temps d'entrainement\")\n",
    "plt.title(\"Temps d'entrainement (en s) par rapport à alpha\")\n",
    "plt.legend()\n",
    "plt.show()\n",
    "\n",
    "## Plots Accuracy / Alpha\n",
    "plt.figure()\n",
    "plt.plot(alphas, accuracy_SGD[0], label=\"tahn SGD\")\n",
    "plt.plot(alphas, accuracy_SGD[1], label=\"relu SGD\")\n",
    "plt.plot(alphas, accuracy_ADAM[0], label=\"tahn ADAM\")\n",
    "plt.plot(alphas, accuracy_ADAM[1], label=\"relu ADAM\")\n",
    "plt.xlabel(\"alpha\")\n",
    "plt.ylabel(\"Accuracy\")\n",
    "plt.title(\"Accuracy par rapport à alpha\")\n",
    "plt.legend()\n",
    "plt.show()\n",
    "\n",
    "## Plots Recall / Alpha\n",
    "plt.figure()\n",
    "plt.plot(alphas, recall_SGD[0], label=\"tahn SGD\")\n",
    "plt.plot(alphas, recall_SGD[1], label=\"relu SGD\")\n",
    "plt.plot(alphas, recall_ADAM[0], label=\"tahn ADAM\")\n",
    "plt.plot(alphas, recall_ADAM[1], label=\"relu ADAM\")\n",
    "plt.xlabel(\"alpha\")\n",
    "plt.ylabel(\"Recall\")\n",
    "plt.title(\"Recall par rapport à alpha\")\n",
    "plt.legend()\n",
    "plt.show()\n",
    "\n",
    "## Plots Accuracy / Alpha\n",
    "plt.figure()\n",
    "plt.plot(alphas, error_SGD[0], label=\"tahn SGD\")\n",
    "plt.plot(alphas, error_SGD[1], label=\"relu SGD\")\n",
    "plt.plot(alphas, error_ADAM[0], label=\"tahn ADAM\")\n",
    "plt.plot(alphas, error_ADAM[1], label=\"relu ADAM\")\n",
    "plt.xlabel(\"alpha\")\n",
    "plt.ylabel(\"Erreur\")\n",
    "plt.title(\"Erreur par rapport à alpha\")\n",
    "plt.legend()\n",
    "plt.show()\n"
   ]
  },
  {
   "cell_type": "markdown",
   "metadata": {},
   "source": [
    "On remarque qu'avec l'optimisation ADAM et la fonction d'activation relu, on obtient la meilleure accuracy, pour un des meilleurs temps d'entrainement. On peut aussi noter que l'augmentation d'alpha est minimale pour alpha = 0.0001."
   ]
  },
  {
   "cell_type": "markdown",
   "metadata": {},
   "source": [
    "# Avantages et Inconvénients des A-NN\n",
    "\n",
    "Les A-NN ont plusieurs avantages, comme plusieurs inconvénients.\\\n",
    "On peut remarquer les avantages suivants:\n",
    "* Les prédictions sont instantanées\n",
    "* Tous types de données peuvent êtres données en entrée\n",
    "* Beaucoup de paramètres sont modifiables afin d'obtenir les résultats voulus \n",
    "\n",
    "Cependant, on peut aussi remarquer les inconvénients suivants:\n",
    "* Le temps d'apprentissage est très long (mise à l'echelle compliquée sans une grande puissance de calcul)\n",
    "* Rien n'assure que le réseau finisse l'apprentissage (on doit spécifier un nombre maximum d'itération)\n",
    "* Bien que le grand nombre de paramètres soit puisse être un avantage, cela rend la méthode moins \"user-friendly\" que la méthode des K-NN\n",
    "* Le réseau est une \"boite noire\": par exemple, on ne sait pas comment il reconnait les images\n",
    "\n",
    "C'est pour cela que les A-NN ne peuvent pas être utilisés dans tous les contextes. On peut par exemple en utiliser lorsque l'apprentissage se fait en amont de l'utilisation, afin d'implémenter un réseau déjà entrainé chez l'utilisateur. On peut par exemple implémenter un réseau de reconnaissance d'image dans une voiture autonome, qui a besoin de prédictions rapides."
   ]
  }
 ],
 "metadata": {
  "kernelspec": {
   "display_name": "Python 3",
   "language": "python",
   "name": "python3"
  },
  "language_info": {
   "codemirror_mode": {
    "name": "ipython",
    "version": 3
   },
   "file_extension": ".py",
   "mimetype": "text/x-python",
   "name": "python",
   "nbconvert_exporter": "python",
   "pygments_lexer": "ipython3",
   "version": "3.8.5"
  }
 },
 "nbformat": 4,
 "nbformat_minor": 5
}
