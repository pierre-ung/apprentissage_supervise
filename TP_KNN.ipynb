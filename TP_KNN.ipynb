{
 "cells": [
  {
   "cell_type": "markdown",
   "metadata": {},
   "source": [
    "# Apprentissage Supervisé: TP1 - Méthode des K-NN"
   ]
  },
  {
   "cell_type": "code",
   "execution_count": 2,
   "metadata": {},
   "outputs": [],
   "source": [
    "from sklearn.datasets import fetch_openml\n",
    "from sklearn import datasets\n",
    "import matplotlib.pyplot as plt\n",
    "from sklearn import neighbors\n",
    "from sklearn.model_selection import train_test_split\n",
    "import numpy as np\n",
    "from sklearn.model_selection import KFold\n",
    "import time"
   ]
  },
  {
   "cell_type": "code",
   "execution_count": 6,
   "metadata": {},
   "outputs": [],
   "source": [
    "# Chargement du dataset mnist\n",
    "mnist = fetch_openml('mnist_784', return_X_y = True, as_frame = False) \n",
    "data = mnist[0]\n",
    "target = mnist[1]"
   ]
  },
  {
   "cell_type": "markdown",
   "metadata": {},
   "source": [
    "On trouve dans $mnist[0]$  la liste des images (tableaux de pixels), et dans $mnist[1]$ la liste des labels correspondants.\n",
    "\n",
    "En d'autres termes, le label correspondant à $mnist[0][n]$ est $mnist[1][n]$"
   ]
  },
  {
   "cell_type": "markdown",
   "metadata": {},
   "source": [
    "# Exercice 1 : Prise en main"
   ]
  },
  {
   "cell_type": "markdown",
   "metadata": {},
   "source": [
    "## Quelques commandes"
   ]
  },
  {
   "cell_type": "code",
   "execution_count": 7,
   "metadata": {},
   "outputs": [
    {
     "name": "stdout",
     "output_type": "stream",
     "text": [
      "(array([[0., 0., 0., ..., 0., 0., 0.],\n",
      "       [0., 0., 0., ..., 0., 0., 0.],\n",
      "       [0., 0., 0., ..., 0., 0., 0.],\n",
      "       ...,\n",
      "       [0., 0., 0., ..., 0., 0., 0.],\n",
      "       [0., 0., 0., ..., 0., 0., 0.],\n",
      "       [0., 0., 0., ..., 0., 0., 0.]]), array(['5', '0', '4', ..., '4', '5', '6'], dtype=object))\n",
      "[[0. 0. 0. ... 0. 0. 0.]\n",
      " [0. 0. 0. ... 0. 0. 0.]\n",
      " [0. 0. 0. ... 0. 0. 0.]\n",
      " ...\n",
      " [0. 0. 0. ... 0. 0. 0.]\n",
      " [0. 0. 0. ... 0. 0. 0.]\n",
      " [0. 0. 0. ... 0. 0. 0.]]\n",
      "['5' '0' '4' ... '4' '5' '6']\n",
      "Help on built-in function len in module builtins:\n",
      "\n",
      "len(obj, /)\n",
      "    Return the number of items in a container.\n",
      "\n",
      "(70000, 784)\n",
      "(70000,)\n"
     ]
    },
    {
     "data": {
      "text/plain": [
       "array([[0., 0., 0., ..., 0., 0., 0.],\n",
       "       [0., 0., 0., ..., 0., 0., 0.],\n",
       "       [0., 0., 0., ..., 0., 0., 0.],\n",
       "       ...,\n",
       "       [0., 0., 0., ..., 0., 0., 0.],\n",
       "       [0., 0., 0., ..., 0., 0., 0.],\n",
       "       [0., 0., 0., ..., 0., 0., 0.]])"
      ]
     },
     "execution_count": 7,
     "metadata": {},
     "output_type": "execute_result"
    }
   ],
   "source": [
    "#N.B: les pixels sont en niveau de gris (valeur entre 0(noir) - 255(blanc))\n",
    "print(mnist)        # Affiche la liste de data et la liste de labels correspondants\n",
    "print(data)         # Affiche la liste de data (tableaux de pixels correspondants aux images)\n",
    "print(target)       # Affiche la liste des labels correspondant aux data \n",
    "len(data)           # Affiche le nombre de données (ici 70 000)\n",
    "help(len)           # Affiche la documentation de la fonction len\n",
    "print(data.shape)   # Affiche le format (longueur, largeur) des data (ici, 70 000 données de 784 pixels chacune)\n",
    "print(target.shape) # Affiche le format des labels (ici, 70 000 labels à la suite)\n",
    "data[0]             # Retourne la liste de pixels associé à la première donnée\n",
    "data[0][1]          # Retourne le deuxième pixel de la première image du dataset \n",
    "data[:,1]           # Retourne le deuxième pixel de chaque image \n",
    "data[:100]          # Retourne les 100 premières images du dataset"
   ]
  },
  {
   "cell_type": "markdown",
   "metadata": {},
   "source": [
    "## Visualisation des données"
   ]
  },
  {
   "cell_type": "code",
   "execution_count": 8,
   "metadata": {},
   "outputs": [
    {
     "name": "stdout",
     "output_type": "stream",
     "text": [
      "Classe de l'image: 5\n"
     ]
    },
    {
     "data": {
      "image/png": "[encoded data removed]",
      "text/plain": [
       "<Figure size 432x288 with 1 Axes>"
      ]
     },
     "metadata": {
      "needs_background": "light"
     },
     "output_type": "display_data"
    }
   ],
   "source": [
    "# Transformation des listes de 784 pixels en liste de liste (28x28)\n",
    "images = data.reshape(-1, 28, 28)\n",
    "\n",
    "#Affichage de la première image du dataset\n",
    "plt.imshow(images[0],cmap=plt.cm.gray_r,interpolation=\"nearest\")\n",
    "\n",
    "# Affichage de la classe de l'image correspondante (label)\n",
    "print(f\"Classe de l'image: {target[0]}\")"
   ]
  },
  {
   "cell_type": "markdown",
   "metadata": {},
   "source": [
    "# Exercice 2: Méthode des K-NN"
   ]
  },
  {
   "cell_type": "markdown",
   "metadata": {},
   "source": [
    "Dans cet exercice, nous reprenons le dataset MNIST chargé dans l'exercice 1"
   ]
  },
  {
   "cell_type": "markdown",
   "metadata": {},
   "source": [
    "## 1ère partie: Classifieur k=10"
   ]
  },
  {
   "cell_type": "code",
   "execution_count": 9,
   "metadata": {},
   "outputs": [
    {
     "data": {
      "text/plain": [
       "KNeighborsClassifier(n_jobs=-1, n_neighbors=10)"
      ]
     },
     "execution_count": 9,
     "metadata": {},
     "output_type": "execute_result"
    }
   ],
   "source": [
    "# Séléction de 5000 indices aléatoires (entre 0 et 70 000)\n",
    "index = np.random.randint(70000, size=5000)\n",
    "\n",
    "# Attribution des sous-ensembles de data / target\n",
    "sub_data = data[index]\n",
    "sub_target = target[index]\n",
    "\n",
    "# Création du training set (80%) et du testing set (20%)\n",
    "xtrain, xtest, ytrain, ytest = train_test_split(sub_data, sub_target, train_size = 0.8)\n",
    "\n",
    "# Création du classifier avec k = 10\n",
    "k = 10\n",
    "clf = neighbors.KNeighborsClassifier(k, n_jobs=-1)\n",
    "\n",
    "# Entrainement du classifieur\n",
    "clf.fit(xtrain, ytrain)"
   ]
  },
  {
   "cell_type": "code",
   "execution_count": 10,
   "metadata": {},
   "outputs": [],
   "source": [
    "# Prédiction des images du testing set\n",
    "predictions = clf.predict(xtest)"
   ]
  },
  {
   "cell_type": "code",
   "execution_count": 11,
   "metadata": {},
   "outputs": [
    {
     "name": "stdout",
     "output_type": "stream",
     "text": [
      "Classe prédite: 0\n",
      "Prediction correcte !\n"
     ]
    },
    {
     "data": {
      "image/png": "[encoded data removed]",
      "text/plain": [
       "<Figure size 432x288 with 1 Axes>"
      ]
     },
     "metadata": {
      "needs_background": "light"
     },
     "output_type": "display_data"
    }
   ],
   "source": [
    "# Prédiction de la classe de l'image 4\n",
    "print(f\"Classe prédite: {predictions[4]}\")\n",
    "\n",
    "# Affichage de l'image \n",
    "images_test = xtest.reshape(-1, 28, 28)\n",
    "plt.imshow(images_test[4],cmap=plt.cm.gray_r,interpolation=\"nearest\")\n",
    "\n",
    "if predictions[4] == ytest[4]:\n",
    "    print(\"Prediction correcte !\")\n",
    "else:\n",
    "    print(\"Prediction Incorrecte !\")"
   ]
  },
  {
   "cell_type": "code",
   "execution_count": 12,
   "metadata": {},
   "outputs": [],
   "source": [
    "# Calcul du score sur l'échantillon de test\n",
    "score_test = clf.score(xtest, ytest)"
   ]
  },
  {
   "cell_type": "code",
   "execution_count": 13,
   "metadata": {},
   "outputs": [
    {
     "name": "stdout",
     "output_type": "stream",
     "text": [
      "Sur l'échantillon de test, on obtient un score de 0.928 (92.80000000000001%) \n"
     ]
    }
   ],
   "source": [
    "# Affichage du score sur l'échantillon de test\n",
    "print(f\"Sur l'échantillon de test, on obtient un score de {score_test} ({score_test*100}%) \")"
   ]
  },
  {
   "cell_type": "code",
   "execution_count": 14,
   "metadata": {},
   "outputs": [],
   "source": [
    "# Calcul du score sur les données d'apprentissage (pour en déduire le taux d'erreur)\n",
    "score_learning = clf.score(xtrain, ytrain)"
   ]
  },
  {
   "cell_type": "code",
   "execution_count": 15,
   "metadata": {},
   "outputs": [
    {
     "name": "stdout",
     "output_type": "stream",
     "text": [
      "Score = 0.93725\n",
      "Taux d'erreur = 0.06274999999999997 (0.06274999999999997%)\n"
     ]
    }
   ],
   "source": [
    "# Affichage du score et du taux d'erreur\n",
    "print(f\"Score = {score_learning}\")\n",
    "print(f\"Taux d'erreur = {1 - score_learning} ({1 - score_learning}%)\")"
   ]
  },
  {
   "cell_type": "markdown",
   "metadata": {},
   "source": [
    "On obtient un meilleur score sur le set d' \"entrainement\". Cela est normal car il s'agit du set ayant les voisins étiquettés correctements (car les labels sont connus) "
   ]
  },
  {
   "cell_type": "markdown",
   "metadata": {},
   "source": [
    "## 2ème partie: Classifieur avec K variable"
   ]
  },
  {
   "cell_type": "markdown",
   "metadata": {},
   "source": [
    "### Variation du nombre de voisins \n",
    "Ici, nous allons faire varier le nombre de voisins pour trouver le k optimal"
   ]
  },
  {
   "cell_type": "code",
   "execution_count": 58,
   "metadata": {},
   "outputs": [
    {
     "name": "stdout",
     "output_type": "stream",
     "text": [
      "k = 3\n",
      "score: 0.952\n",
      "k = 5\n",
      "score: 0.948\n",
      "k = 7\n",
      "score: 0.944\n",
      "k = 9\n",
      "score: 0.956\n",
      "k = 11\n",
      "score: 0.948\n",
      "k = 13\n",
      "score: 0.932\n",
      "k = 15\n",
      "score: 0.932\n"
     ]
    }
   ],
   "source": [
    "n = 5000\n",
    "# Séléction de n indices aléatoires (entre 0 et 70 000)\n",
    "index = np.random.randint(70000, size=n)\n",
    "\n",
    "# Attribution des sous-ensembles de data / target\n",
    "sub_data = data[index]\n",
    "sub_target = target[index]\n",
    "\n",
    "# Liste des scores obtenues \n",
    "scores = []\n",
    "\n",
    "for k in range(3, 16, 2): # Différents K impairs de 3 à 15\n",
    "    kf = KFold(n_splits=10, shuffle=True) # Séparation de plusieurs set de training et de tests \n",
    "    print(f\"k = {k}\")\n",
    "    scores_fold = [] # Liste des scores obtenues sur chaque split\n",
    "    for train_index, test_index in kf.split(sub_data): \n",
    "        # Affectation des différents sets\n",
    "        xtrain, xtest = sub_data[train_index], sub_data[test_index]\n",
    "        ytrain, ytest = sub_target[train_index], sub_target[test_index]\n",
    "        # Création du classifier\n",
    "        clf = neighbors.KNeighborsClassifier(k, n_jobs=-1)\n",
    "        # Entrainement du classifieur\n",
    "        clf.fit(xtrain, ytrain)\n",
    "        # Calcul du score du classifieur\n",
    "        score = clf.score(xtest, ytest)\n",
    "        scores_fold.append(score)\n",
    "    scores.append((k, max(scores_fold)))\n",
    "    print(f\"score: {scores[-1][1]}\")"
   ]
  },
  {
   "cell_type": "markdown",
   "metadata": {},
   "source": [
    "Le k optimal semble être k = 9"
   ]
  },
  {
   "cell_type": "markdown",
   "metadata": {},
   "source": [
    "### Variation du pourcentage des échantillons de training et testing set"
   ]
  },
  {
   "cell_type": "markdown",
   "metadata": {},
   "source": [
    "Ici, nous faisons varier le pourcentage d'images dans le training et testing set, afin de trouver le meilleur compromis."
   ]
  },
  {
   "cell_type": "code",
   "execution_count": 39,
   "metadata": {},
   "outputs": [
    {
     "name": "stdout",
     "output_type": "stream",
     "text": [
      "training: 95.0%\t test: 5%\n",
      "score: 0.908\n",
      "\n",
      "training: 90.0%\t test: 10%\n",
      "score: 0.924\n",
      "\n",
      "training: 85.0%\t test: 15%\n",
      "score: 0.9173333333333333\n",
      "\n",
      "training: 80.0%\t test: 20%\n",
      "score: 0.917\n",
      "\n",
      "training: 75.0%\t test: 25%\n",
      "score: 0.9144\n",
      "\n",
      "training: 70.0%\t test: 30%\n",
      "score: 0.9206666666666666\n",
      "\n",
      "training: 65.0%\t test: 35%\n",
      "score: 0.9102857142857143\n",
      "\n",
      "training: 60.0%\t test: 40%\n",
      "score: 0.9105\n",
      "\n",
      "training: 55.00000000000001%\t test: 45%\n",
      "score: 0.9102222222222223\n",
      "\n",
      "training: 50.0%\t test: 50%\n",
      "score: 0.9056\n",
      "\n",
      "training: 45.0%\t test: 55%\n",
      "score: 0.904\n",
      "\n",
      "training: 40.0%\t test: 60%\n",
      "score: 0.904\n",
      "\n",
      "training: 35.0%\t test: 65%\n",
      "score: 0.8901538461538462\n",
      "\n",
      "training: 30.0%\t test: 70%\n",
      "score: 0.8848571428571429\n",
      "\n",
      "training: 25.0%\t test: 75%\n",
      "score: 0.8736\n",
      "\n",
      "training: 20.0%\t test: 80%\n",
      "score: 0.86275\n",
      "\n",
      "training: 15.0%\t test: 85%\n",
      "score: 0.8510588235294118\n",
      "\n",
      "training: 10.0%\t test: 90%\n",
      "score: 0.8168888888888889\n",
      "\n",
      "training: 5.0%\t test: 95%\n",
      "score: 0.7256842105263158\n",
      "\n"
     ]
    }
   ],
   "source": [
    "n = 5000\n",
    "# Séléction de n indices aléatoires (entre 0 et 70 000)\n",
    "index = np.random.randint(70000, size=n)\n",
    "\n",
    "# Attribution des sous-ensembles de data / target\n",
    "sub_data = data[index]\n",
    "sub_target = target[index]\n",
    "\n",
    "k = 9\n",
    "for test_percentage in range(5, 100, 5): # Différents K impairs de 3 à 15\n",
    "    train_percentage = (100 - test_percentage) / 100\n",
    "    print(f\"training: {train_percentage*100}%\\t test: {test_percentage}%\")\n",
    "    # Affectation des différents sets\n",
    "    xtrain, xtest, ytrain, ytest = train_test_split(sub_data, sub_target, train_size = train_percentage)\n",
    "    # Création du classifier\n",
    "    clf = neighbors.KNeighborsClassifier(k, n_jobs=-1)\n",
    "    # Entrainement du classifieur\n",
    "    clf.fit(xtrain, ytrain)\n",
    "    # Calcul du score du classifieur\n",
    "    score = clf.score(xtest, ytest)\n",
    "    print(f\"score: {score}\\n\")"
   ]
  },
  {
   "cell_type": "markdown",
   "metadata": {},
   "source": [
    "On remarque qu'avec trop de données d'entrainement, on perd en précision de prédiction (95%)."
   ]
  },
  {
   "cell_type": "markdown",
   "metadata": {},
   "source": [
    "Nous faisons maintenant varier le paramètre p du classifieur, afin de calculer la distance entre les données en utilisant la distance Euclidienne (p=2), la distance de Manhattan (p=1), ou bien la distance de Minkowski (p>2)."
   ]
  },
  {
   "cell_type": "code",
   "execution_count": 42,
   "metadata": {},
   "outputs": [
    {
     "name": "stdout",
     "output_type": "stream",
     "text": [
      "p: 1\n",
      "score: 0.895\n",
      "\n",
      "p: 2\n",
      "score: 0.921\n",
      "\n",
      "p: 3\n",
      "score: 0.923\n",
      "\n"
     ]
    }
   ],
   "source": [
    "n = 5000\n",
    "# Séléction de n indices aléatoires (entre 0 et 70 000)\n",
    "index = np.random.randint(70000, size=n)\n",
    "\n",
    "# Attribution des sous-ensembles de data / target\n",
    "sub_data = data[index]\n",
    "sub_target = target[index]\n",
    "\n",
    "k = 9\n",
    "for p in range(1, 4): # Différents paramètres p\n",
    "    print(f\"p: {p}\")\n",
    "    # Affectation des différents sets\n",
    "    xtrain, xtest, ytrain, ytest = train_test_split(sub_data, sub_target, train_size = 0.8)\n",
    "    # Création du classifier\n",
    "    clf = neighbors.KNeighborsClassifier(k, n_jobs=-1, p=p)\n",
    "    # Entrainement du classifieur\n",
    "    clf.fit(xtrain, ytrain)\n",
    "    # Calcul du score du classifieur\n",
    "    score = clf.score(xtest, ytest)\n",
    "    print(f\"score: {score}\\n\")"
   ]
  },
  {
   "cell_type": "markdown",
   "metadata": {},
   "source": [
    "Les meilleures distances semblent être les distances Eclidienne et de Minkowski"
   ]
  },
  {
   "cell_type": "markdown",
   "metadata": {},
   "source": [
    "Nous allons maintenant mesurer le temps d'éxecution de l'entrainement et du calcul du score, en utilisant 1 coeur (n_jobs=1), puis tous les coeurs (n_jobs=-1)"
   ]
  },
  {
   "cell_type": "code",
   "execution_count": 43,
   "metadata": {},
   "outputs": [
    {
     "name": "stdout",
     "output_type": "stream",
     "text": [
      "Execution avec 1 Coeur\n",
      "Temps d'éxecution: 3.695591449737549\n",
      "Execution avec tous les coeurs\n",
      "Temps d'éxecution: 0.5804717540740967\n"
     ]
    }
   ],
   "source": [
    "n = 5000\n",
    "# Séléction de n indices aléatoires (entre 0 et 70 000)\n",
    "index = np.random.randint(70000, size=n)\n",
    "\n",
    "# Attribution des sous-ensembles de data / target\n",
    "sub_data = data[index]\n",
    "sub_target = target[index]\n",
    "\n",
    "k=9\n",
    "p=2\n",
    "train_size=0.8\n",
    "\n",
    "# 1 coeur\n",
    "print(\"Execution avec 1 Coeur\")\n",
    "\n",
    "start_time = time.time()\n",
    "# Affectation des différents sets\n",
    "xtrain, xtest, ytrain, ytest = train_test_split(sub_data, sub_target, train_size = train_size)\n",
    "# Création du classifier\n",
    "clf = neighbors.KNeighborsClassifier(k, n_jobs=1, p=p)\n",
    "# Entrainement du classifieur\n",
    "clf.fit(xtrain, ytrain)\n",
    "# Calcul du score du classifieur\n",
    "score = clf.score(xtest, ytest)\n",
    "\n",
    "print(f\"Temps d'éxecution: {time.time() - start_time}\")\n",
    "\n",
    "\n",
    "# Tous les coeur\n",
    "print(\"Execution avec tous les coeurs\")\n",
    "start_time = time.time()\n",
    "# Affectation des différents sets\n",
    "xtrain, xtest, ytrain, ytest = train_test_split(sub_data, sub_target, train_size = train_size)\n",
    "# Création du classifier\n",
    "clf = neighbors.KNeighborsClassifier(k, n_jobs=-1, p=p)\n",
    "# Entrainement du classifieur\n",
    "clf.fit(xtrain, ytrain)\n",
    "# Calcul du score du classifieur\n",
    "score = clf.score(xtest, ytest)\n",
    "\n",
    "print(f\"Temps d'éxecution: {time.time() - start_time}\")"
   ]
  },
  {
   "cell_type": "markdown",
   "metadata": {},
   "source": [
    "On remarque que le temps d'éxecution obtenu en parallelisant la création du classifier et le calcul du score est nettement plus court (~ 7x plus rapide). Cela veut dire que la méthode est parallelisable."
   ]
  },
  {
   "cell_type": "markdown",
   "metadata": {},
   "source": [
    "## Avantages et Inconvénients"
   ]
  },
  {
   "cell_type": "markdown",
   "metadata": {},
   "source": [
    "Avantages:\n",
    "* L'algorithme se comprend facilement\n",
    "* Il suffit de de savoir placer une donnée pour l'utiliser (pas de biais à appliquer)\n",
    "* Sur l'exemple de MNIST, l'algoritme offre de très bon résultats (~90% de reconnaissance)\n",
    "\n",
    "Inconvénients:\n",
    "* La durée des prédictions est directement liée au nombre de données, ce qui complique le passage à l'echelle\n",
    "* L'algorithme ne peut pas être utilisé si des prédictions rapides sont necessaires. "
   ]
  }
 ],
 "metadata": {
  "kernelspec": {
   "display_name": "Python 3",
   "language": "python",
   "name": "python3"
  },
  "language_info": {
   "codemirror_mode": {
    "name": "ipython",
    "version": 3
   },
   "file_extension": ".py",
   "mimetype": "text/x-python",
   "name": "python",
   "nbconvert_exporter": "python",
   "pygments_lexer": "ipython3",
   "version": "3.8.5"
  }
 },
 "nbformat": 4,
 "nbformat_minor": 4
}
